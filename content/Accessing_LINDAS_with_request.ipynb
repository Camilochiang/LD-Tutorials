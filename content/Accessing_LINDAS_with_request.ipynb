{
 "cells": [
  {
   "cell_type": "markdown",
   "metadata": {},
   "source": [
    "The goal of this notebook is to share how to access LINDA data from python with a minimal instalation from within the confederation"
   ]
  },
  {
   "cell_type": "markdown",
   "metadata": {},
   "source": [
    "### Using only requests"
   ]
  },
  {
   "cell_type": "code",
   "execution_count": 13,
   "metadata": {},
   "outputs": [],
   "source": [
    "#!python -m pip install requests pandas ipykernel"
   ]
  },
  {
   "cell_type": "code",
   "execution_count": 14,
   "metadata": {},
   "outputs": [],
   "source": [
    "import pandas as pd\n",
    "import requests\n",
    "import json"
   ]
  },
  {
   "cell_type": "code",
   "execution_count": 8,
   "metadata": {},
   "outputs": [],
   "source": [
    "endppoint_ch = 'http://int.lindas.admin.ch/query'\n",
    "header = {\"Accept\": \"application/sparql-results+json\"} \n",
    "\n",
    "proxies = {\n",
    "\t\"http\": \"your_proxy\",\n",
    "\t\"https\": \"your_proxy\"\n",
    "}  "
   ]
  },
  {
   "cell_type": "code",
   "execution_count": 15,
   "metadata": {},
   "outputs": [],
   "source": [
    "query = \"\"\"\n",
    "\tPREFIX station: <https://environment.ld.admin.ch/foen/hydro>\n",
    "\tSELECT *\n",
    "\tFROM <https://lindas.admin.ch/foen/hydro>\n",
    "\tWHERE { \n",
    "\t\t?a ?b ?c.\n",
    "\t\tfilter contains(str(?a), \"observation\")\n",
    "\t} LIMIT 3\n",
    "\"\"\""
   ]
  },
  {
   "cell_type": "code",
   "execution_count": null,
   "metadata": {},
   "outputs": [],
   "source": [
    "session = requests.Session()\n",
    "session.proxies.update(proxies)\n",
    "session.proxies.values()"
   ]
  },
  {
   "cell_type": "code",
   "execution_count": null,
   "metadata": {},
   "outputs": [],
   "source": [
    "r = session.get(url = endppoint_ch, \n",
    "\t\t\t\theaders = header, \n",
    "\t\t\t\tparams= {'format': 'json', 'query': \"\".join(query)},\n",
    "\t\t\t\tverify = False)\n",
    "data = r.json()\n"
   ]
  },
  {
   "cell_type": "code",
   "execution_count": 18,
   "metadata": {},
   "outputs": [
    {
     "data": {
      "text/plain": [
       "{'head': {'vars': ['a', 'b', 'c']},\n",
       " 'results': {'bindings': [{'a': {'type': 'uri',\n",
       "     'value': 'https://environment.ld.admin.ch/foen/hydro/river/observation/2232'},\n",
       "    'b': {'type': 'uri', 'value': 'http://example.com/isLiter'},\n",
       "    'c': {'type': 'literal', 'value': 'true'}},\n",
       "   {'a': {'type': 'uri',\n",
       "     'value': 'https://environment.ld.admin.ch/foen/hydro/river/observation/2629'},\n",
       "    'b': {'type': 'uri', 'value': 'http://example.com/isLiter'},\n",
       "    'c': {'type': 'literal', 'value': 'true'}},\n",
       "   {'a': {'type': 'uri',\n",
       "     'value': 'https://environment.ld.admin.ch/foen/hydro/river/observation/2203'},\n",
       "    'b': {'type': 'uri', 'value': 'http://example.com/isLiter'},\n",
       "    'c': {'type': 'literal', 'value': 'true'}}]}}"
      ]
     },
     "execution_count": 18,
     "metadata": {},
     "output_type": "execute_result"
    }
   ],
   "source": [
    "data"
   ]
  },
  {
   "cell_type": "markdown",
   "metadata": {},
   "source": [
    "### Using graphly\n",
    "zazuko provides a library for this too.."
   ]
  },
  {
   "cell_type": "code",
   "execution_count": 23,
   "metadata": {},
   "outputs": [],
   "source": [
    "# !git clone https://github.com/zazuko/graphly\n",
    "##  WARNING: you will need to add to each .get in graphly.api_client.py \"verify = False\" before installing, if you are inside the confederation\n",
    "# !python -m pip install -e  graphly"
   ]
  },
  {
   "cell_type": "code",
   "execution_count": 24,
   "metadata": {},
   "outputs": [],
   "source": [
    "from graphly.api_client import SparqlClient"
   ]
  },
  {
   "cell_type": "code",
   "execution_count": 25,
   "metadata": {},
   "outputs": [],
   "source": [
    "sparql = SparqlClient(\"https://environment.ld.admin.ch/query\")\n",
    "sparql.session.proxies.update({\"http\": \"your_proxy\", \"https\":\"your_proxy\"})\n",
    "sparql.add_prefixes({\n",
    "    \"rdf\": \"<http://www.w3.org/1999/02/22-rdf-syntax-ns#>\",\n",
    "    \"rdfs\": \"<http://www.w3.org/2000/01/rdf-schema#>\"\n",
    "})"
   ]
  },
  {
   "cell_type": "code",
   "execution_count": null,
   "metadata": {},
   "outputs": [],
   "source": [
    "query = \"\"\"\n",
    "SELECT * WHERE {\n",
    "  ?sub ?pred ?obj .\n",
    "} LIMIT 10\n",
    "\"\"\"\n",
    "\n",
    "df = sparql.send_query(query)\n",
    "df.head()"
   ]
  }
 ],
 "metadata": {
  "kernelspec": {
   "display_name": "f80860637_venv",
   "language": "python",
   "name": "python3"
  },
  "language_info": {
   "codemirror_mode": {
    "name": "ipython",
    "version": 3
   },
   "file_extension": ".py",
   "mimetype": "text/x-python",
   "name": "python",
   "nbconvert_exporter": "python",
   "pygments_lexer": "ipython3",
   "version": "3.8.16"
  },
  "orig_nbformat": 4
 },
 "nbformat": 4,
 "nbformat_minor": 2
}
